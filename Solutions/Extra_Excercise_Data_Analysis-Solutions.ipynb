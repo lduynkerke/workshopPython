{
 "cells": [
  {
   "cell_type": "markdown",
   "metadata": {
    "deletable": false,
    "nbgrader": {
     "grade": false,
     "grade_id": "cell-4b5a8407da08f024",
     "locked": true,
     "schema_version": 3,
     "solution": false,
     "task": false
    }
   },
   "source": [
    "# Python Final Project: Meten is weten, know your uncertainty!\n",
    "\n",
    "Suppose we want to measure the acceleration of $g$ due to gravity. This can be calculated by dropping a weight from a known distance and measuring the fall time. In this assignment you will learn how to estimate the error in such a measurement. Among the many sources of error, one clear one is the error in determining the fall time. Lets say we are using a stop watch where the start and stop time were recorded by a human pushing the button.\n",
    "\n",
    "A good question that a physicist would then ask is: how do you know what value you should use for the uncertainty in the measured time? \n",
    "\n",
    "The rigorous answer for this that you should not estimate the uncertainty by \"guessing\", you should actually **measure** the uncertainty!\n",
    "\n",
    "How would this work? Well, one way would be to have two signals that we know are exactly 10 seconds apart, and have one person use the stopwatch to try to measure the time, and then compare this to the known value. And, of course, since the exact time the person with the stopwatch measures might vary from one run of the experiment to the next, you would want to repeat this many times to get some statistics and take a look at the distribution of the measured results. From this distribution, you can then say concrete things about the uncertainty in the measured time. \n",
    "\n",
    "How many times is \"many times\"? If I really want to build a distribution, I would want to have **A LOT** of samples: here below we will look at 1000 different repetition of the same experiment! (This sound painful, but could be done by having a group of 100 students repeat the same timing measurement 10 times.)\n",
    "\n",
    "In this assignment you will:\n",
    "* Load a data set of time measurements \n",
    "* Use a function to calculate histograms of the measurements\n",
    "* Make some plots of the histograms you calculate\n",
    "* Create a python function to generate a Gaussian curve\n",
    "* Fit the data \"by hand\" to a Gaussian curve\n",
    "* Perform a least-squares fit to the data \n",
    "* Determine the error in this timing measurement \n",
    "\n",
    "Here below, I import some standard libraries. Feel free to import more libraries in your own code cells if you wish."
   ]
  },
  {
   "cell_type": "code",
   "execution_count": 2,
   "metadata": {
    "ExecuteTime": {
     "end_time": "2020-09-03T08:57:55.118355Z",
     "start_time": "2020-09-03T08:57:54.429599Z"
    },
    "deletable": false,
    "editable": false,
    "nbgrader": {
     "grade": false,
     "grade_id": "cell-32cc7a97564ca5f6",
     "locked": true,
     "schema_version": 3,
     "solution": false,
     "task": false
    }
   },
   "outputs": [],
   "source": [
    "import numpy as np\n",
    "import matplotlib.pyplot as plt"
   ]
  },
  {
   "cell_type": "code",
   "execution_count": null,
   "metadata": {
    "ExecuteTime": {
     "end_time": "2020-09-03T08:57:55.123408Z",
     "start_time": "2020-09-03T08:57:55.120724Z"
    },
    "deletable": false,
    "editable": false,
    "nbgrader": {
     "grade": false,
     "grade_id": "cell-f34e4c79fce498a7",
     "locked": true,
     "schema_version": 3,
     "solution": false,
     "task": false
    }
   },
   "outputs": [],
   "source": [
    "plt.rcParams['figure.dpi'] = 100"
   ]
  },
  {
   "cell_type": "markdown",
   "metadata": {
    "deletable": false,
    "editable": false,
    "nbgrader": {
     "grade": false,
     "grade_id": "cell-ad2bfdcd021f92c5",
     "locked": true,
     "schema_version": 3,
     "solution": false,
     "task": false
    }
   },
   "source": [
    "## Part 1: Loading and plotting the data\n",
    "\n",
    "The file `measurement_results.csv` contains two columns: the first is a number describing which repetition of the experiment it was, and the second is the measured time in seconds.\n",
    "\n",
    "Load the data from the file and make a plot of the measured time vs. measurement number."
   ]
  },
  {
   "cell_type": "code",
   "execution_count": 3,
   "metadata": {
    "ExecuteTime": {
     "end_time": "2020-09-03T08:57:55.362394Z",
     "start_time": "2020-09-03T08:57:55.125725Z"
    },
    "nbgrader": {
     "grade": false,
     "grade_id": "cell-7cf468542541222d",
     "locked": false,
     "schema_version": 3,
     "solution": true,
     "task": false
    }
   },
   "outputs": [
    {
     "data": {
      "image/png": "[encoded data removed]",
      "text/plain": [
       "<Figure size 432x288 with 1 Axes>"
      ]
     },
     "metadata": {
      "needs_background": "light"
     },
     "output_type": "display_data"
    }
   ],
   "source": [
    "#load data and seperate the number of repetition from the time\n",
    "data = np.loadtxt(\"https://github.com/lduynkerke/workshopPython/raw/main/Tests/measurement_results.csv\", delimiter=\",\")\n",
    "number = data[:,0]\n",
    "time = data[:,1]\n",
    "\n",
    "#plot and show the data and add labels for time and number to the correct axis \n",
    "plt.plot(number, time)\n",
    "plt.xlabel(\"number of repetition\")\n",
    "plt.ylabel(\"time (s)\")\n",
    "plt.xlim(0,1000)\n",
    "plt.ylim(6,14)\n",
    "plt.show()"
   ]
  },
  {
   "cell_type": "markdown",
   "metadata": {
    "deletable": false,
    "editable": false,
    "nbgrader": {
     "grade": false,
     "grade_id": "cell-2e44e38fd9617deb",
     "locked": true,
     "schema_version": 3,
     "solution": false,
     "task": false
    }
   },
   "source": [
    "## Part 2: Plotting the histograms\n",
    "\n",
    "In this part of the question, we will plot some <a href=https://en.wikipedia.org/wiki/Histogram>histograms</a> of the data. The easiest way to plot histograms in python is to use the histogram plotting function that is built into `matplotlib`: \n",
    "\n",
    "https://matplotlib.org/3.1.1/api/_as_gen/matplotlib.pyplot.hist.html\n",
    "\n",
    "Basic usage of the function is as follows: for an array x, if you want to plot a histogram with 50 bins, you can use this code:\n",
    "\n",
    "```\n",
    "plt.hist(x,bins=50)\n",
    "plt.show()\n",
    "```\n",
    "\n",
    "**(a)** Use the code above to make a plot of the histogram of the full dataset you loaded from the file with 50 bins, adding of course plotting code to make appropriate axis labels. "
   ]
  },
  {
   "cell_type": "code",
   "execution_count": null,
   "metadata": {
    "ExecuteTime": {
     "end_time": "2020-09-03T08:57:55.568141Z",
     "start_time": "2020-09-03T08:57:55.363849Z"
    },
    "nbgrader": {
     "grade": false,
     "grade_id": "cell-f05b2d6b3d6286c1",
     "locked": false,
     "schema_version": 3,
     "solution": true,
     "task": false
    }
   },
   "outputs": [],
   "source": [
    "#plot and show the histogram and add labels for time and frequency\n",
    "plt.hist(time, bins=50)\n",
    "plt.xlabel(\"time (s)\")\n",
    "plt.ylabel(\"frequency\")\n",
    "plt.show()"
   ]
  },
  {
   "cell_type": "markdown",
   "metadata": {
    "deletable": false,
    "editable": false,
    "nbgrader": {
     "grade": false,
     "grade_id": "cell-3abe9e947fc82e90",
     "locked": true,
     "schema_version": 3,
     "solution": false,
     "task": false
    }
   },
   "source": [
    "As you can see, although we have a lot of statistics (1000 points!), the distribution curve is still pretty noisy. What if we had fewer points? How noisy would it be? \n",
    "\n",
    "We can check this actually by using python slicing to \"slice out\" sections of the dataset we loaded with a smaller number of points and comparing the plots of the histograms we get. \n",
    "\n",
    "**(b)** Complete the missing code in the cell below to plot the histograms of the first N=(10, 100, 1000) points of the dataset. The code will use the python `subplot` command to generate multiple plots in the same figure. For all histograms, use 50 bins."
   ]
  },
  {
   "cell_type": "code",
   "execution_count": null,
   "metadata": {
    "ExecuteTime": {
     "end_time": "2020-09-03T08:57:56.212900Z",
     "start_time": "2020-09-03T08:57:55.570051Z"
    },
    "nbgrader": {
     "grade": false,
     "grade_id": "cell-9a167170f6349a7a",
     "locked": false,
     "schema_version": 3,
     "solution": true,
     "task": false
    }
   },
   "outputs": [],
   "source": [
    "# Create arrays for the first N=(10, 100, 1000) of array time\n",
    "time_10 = time[0:10]\n",
    "time_100 = time[0:100]\n",
    "time_1000 = time[0:1000]\n",
    "\n",
    "# Tell Python to create subplots with size (15,4)\n",
    "plt.subplots(figsize=(15,4))\n",
    "\n",
    "# The first plot: histogram of the first 10 points with correct title and axis labels\n",
    "plt.subplot(131)\n",
    "plt.hist(time_10, bins=50)\n",
    "plt.title(\"first 10 points\")\n",
    "plt.xlabel(\"time (s)\")\n",
    "plt.ylabel(\"frequency\")\n",
    "\n",
    "# The second plot: histogram of the first 100 points with correct title and axis labels\n",
    "plt.subplot(132)\n",
    "plt.hist(time_100, bins=50)\n",
    "plt.title(\"first 100 points\")\n",
    "plt.xlabel(\"time (s)\")\n",
    "plt.ylabel(\"frequency\")\n",
    "\n",
    "# The third plot: histogram of the first 1000 points with correct title and axis labels\n",
    "plt.subplot(133)\n",
    "plt.hist(time_1000, bins=50)\n",
    "plt.title(\"first 1000 points\")\n",
    "plt.xlabel(\"time (s)\")\n",
    "plt.ylabel(\"frequency\")\n",
    "\n",
    "plt.show()"
   ]
  },
  {
   "cell_type": "markdown",
   "metadata": {
    "deletable": false,
    "editable": false,
    "nbgrader": {
     "grade": false,
     "grade_id": "cell-c6bad27af2219c38",
     "locked": true,
     "schema_version": 3,
     "solution": false,
     "task": false
    }
   },
   "source": [
    "Something to think about: is 10 points sufficient to make a clear statement about the distribution of timings?  \n",
    "\n",
    "**(c)** Finally, we will need to not only plot the histogram, but to generate a `numpy` array that contains the histogram counts and the position of the middle of the \"bins\", that we will use in the following questions. Fortunately, there is a `numpy` function for doing this: \n",
    "\n",
    "https://numpy.org/doc/stable/reference/generated/numpy.histogram.html\n",
    "\n",
    "It works in a very similar way to `plt.hist()`, and it returns two things:\n",
    "\n",
    "* The histogram counts inside the bins it chooses\n",
    "* The left and right edges of the bins it chooses\n",
    "\n",
    "A minor detail is that if we have $N$ bins, they will have $N+1$ edges, but annoyingly we will have $N$ \"count\" values. The arrays  `counts` and `bins` will not be the same size, and so we cannot plot them against each other. But we can fix this with some fancy python slicing. The following code will calculate the histogram, storing it in a variable `counts`, and create an array `t` with the corresponding middle of the bins of the histogram, where I have loaded the measured times into a variable `meas_time`:\n",
    "\n",
    "```\n",
    "counts, bins = np.histogram(meas_time, bins=50)\n",
    "count_time = (bins[:-1]+bins[1:])/2\n",
    "```\n",
    "\n",
    "Your  taks: \n",
    "* Copy-paste the above code and adapt it to you the variable names you have chosen in your previous code cells\n",
    "* In the comment, explain in your own words what the code  `(bins[:-1]+bins[1:])/2` does and why it achieves our objective of finding the times corresponding to the middle of the bins"
   ]
  },
  {
   "cell_type": "code",
   "execution_count": null,
   "metadata": {
    "ExecuteTime": {
     "end_time": "2020-09-03T08:57:56.218516Z",
     "start_time": "2020-09-03T08:57:56.214827Z"
    },
    "nbgrader": {
     "grade": false,
     "grade_id": "cell-ec31c7cd2089064f",
     "locked": false,
     "schema_version": 3,
     "solution": true,
     "task": false
    }
   },
   "outputs": [],
   "source": [
    "counts, bins = np.histogram(time, bins=50)\n",
    "count_time = (bins[:-1]+bins[1:])/2\n",
    "print(count_time)\n",
    "\n",
    "# My Explanation: \n",
    "#\n",
    "# The code bins[:-1] returns an array of bins, except the last value of array bins\n",
    "# The code bins[1:] returns an array of all bins, except the first value of array bins\n",
    "# Therefore bins[1:] + bins[:-1] returns bins[n]+bins[n+1]\n",
    "# So, (bins[n]+bins[n+1])/2 returns an array with the average of bins[n] and bins[n+1],\n",
    "# which is an array with the times corresponding to the middle of the bin."
   ]
  },
  {
   "cell_type": "markdown",
   "metadata": {
    "deletable": false,
    "editable": false,
    "nbgrader": {
     "grade": false,
     "grade_id": "cell-e559375c65e436cd",
     "locked": true,
     "schema_version": 3,
     "solution": false,
     "task": false
    }
   },
   "source": [
    "## Part 3: Programming a Gaussian function and fitting by hand\n",
    "\n",
    "Looking at the histogram of the full dataset, it seems that it is probably well represented by a Gaussian distribution. Our next step is will be to fit the histogram data to a Gaussian distribution and see if it is a good fit. \n",
    "\n",
    "To test this, we will first program a function that calculates a Gaussian distribution function: \n",
    "\n",
    "$$\n",
    "G(t, t_0, A, \\sigma_t) = \n",
    "A \\exp \\left(\n",
    "- \\frac\n",
    "{(t-t_0)^2}{2\\sigma_t^2}\n",
    "\\right)\n",
    "$$\n",
    "\n",
    "where $t_0$ is the position of the peak of the Gaussian, $A$ is the peak value, and $\\sigma_t$ is the standard deviation of the distribution.\n",
    "\n",
    "**(a)** Create a python function to calculate a Gaussian distribution based on the formula above:"
   ]
  },
  {
   "cell_type": "code",
   "execution_count": null,
   "metadata": {
    "ExecuteTime": {
     "end_time": "2020-09-03T08:57:56.239841Z",
     "start_time": "2020-09-03T08:57:56.235669Z"
    },
    "nbgrader": {
     "grade": false,
     "grade_id": "cell-f02b6923ff61e444",
     "locked": false,
     "schema_version": 3,
     "solution": true,
     "task": false
    }
   },
   "outputs": [],
   "source": [
    "# The functions asks for t (data), t0 (position of the peak),\n",
    "# A (peak value), and sigma (standard deviation). \n",
    "# Afterwards it returns the Gaussian distribution:\n",
    "\n",
    "def calc_gauss(t, t0, A, sigma):\n",
    "    Gaussian = A*np.exp(-(t-t0)**2/2*sigma**2)\n",
    "    return Gaussian"
   ]
  },
  {
   "cell_type": "markdown",
   "metadata": {
    "deletable": false,
    "editable": false,
    "nbgrader": {
     "grade": false,
     "grade_id": "cell-1e2da4db05529f1c",
     "locked": true,
     "schema_version": 3,
     "solution": false,
     "task": false
    }
   },
   "source": [
    "**(b)** Create a numpy array `t` that runs from 0 to 10 with 500 points, and make a plot of the Gaussian calculated by your function for $t_0 = 5$, $A = 1$ and $\\sigma_t = 1$, and check if your function gives a plot like what you would expect."
   ]
  },
  {
   "cell_type": "code",
   "execution_count": null,
   "metadata": {
    "ExecuteTime": {
     "end_time": "2020-09-03T08:57:56.735817Z",
     "start_time": "2020-09-03T08:57:56.576563Z"
    },
    "nbgrader": {
     "grade": false,
     "grade_id": "cell-41d476174f7838c1",
     "locked": false,
     "schema_version": 3,
     "solution": true,
     "task": false
    }
   },
   "outputs": [],
   "source": [
    "# create array\n",
    "t = np.linspace(0,10,500)\n",
    "\n",
    "# calculate Gaussian distribution, for t0=5, A=1, sigma=1 and plot\n",
    "plt.plot(t, calc_gauss(t, 5, 1, 1))\n",
    "plt.xlabel(\"time (s)\")\n",
    "plt.ylabel(\"Gaussian (t)\")\n",
    "plt.xlim(0,10)\n",
    "plt.ylim(0,1.2)\n",
    "plt.grid()\n",
    "plt.show()"
   ]
  },
  {
   "cell_type": "markdown",
   "metadata": {
    "deletable": false,
    "nbgrader": {
     "grade": false,
     "grade_id": "cell-99450a00d5fa14a1",
     "locked": true,
     "schema_version": 3,
     "solution": false,
     "task": false
    }
   },
   "source": [
    "**(c)** Use your function to \"fit\" the histogram count data \"**by hand**\":\n",
    "\n",
    "1. Plot the histogram data curve using the arrays `counts` and `count_time` that you calculated at the end of Part 2.\n",
    "2. Make a guess of the parameters for the Gaussian curve based on your plot\n",
    "3. Plot the Gaussian curve with your estimated parameters on top of the data \n",
    "4. Repeat 2 and 3 until the curve is \"pretty close\"\n",
    "\n",
    "In these plots, use the style `'o'` for the data points so they are easy to tell apart from the Gaussian model curve."
   ]
  },
  {
   "cell_type": "code",
   "execution_count": null,
   "metadata": {
    "ExecuteTime": {
     "end_time": "2020-09-03T08:57:57.125419Z",
     "start_time": "2020-09-03T08:57:56.962446Z"
    },
    "nbgrader": {
     "grade": false,
     "grade_id": "cell-94c02f5f84860ecf",
     "locked": false,
     "schema_version": 3,
     "solution": true,
     "task": false
    }
   },
   "outputs": [],
   "source": [
    "# Create numpy array that runs from the first value of count_time to\n",
    "# the last value of count_time with 500 points\n",
    "t_gauss = np.linspace(count_time[0], count_time[-1], 500)\n",
    "\n",
    "# Plot histogram data curve and Gaussian curve with labels and legend\n",
    "# Estimated parameters: t0 = 10 ((count_time[0]+count_time[-1])/2), # A=60 (max. counts), sigma=1.25\n",
    "plt.plot(count_time, counts, 'o', label=\"Measurements\")\n",
    "plt.plot(t_gauss, calc_gauss(t_gauss, 10, 60, 1.25), label=\"Gaussian fit\")\n",
    "plt.xlabel(\"time (s)\")\n",
    "plt.ylabel(\"frequency\")\n",
    "plt.legend()\n",
    "plt.show()\n"
   ]
  },
  {
   "cell_type": "markdown",
   "metadata": {
    "deletable": false,
    "editable": false,
    "nbgrader": {
     "grade": false,
     "grade_id": "cell-547a1f81d03ab929",
     "locked": true,
     "schema_version": 3,
     "solution": false,
     "task": false
    }
   },
   "source": [
    "## Part 4: Fit your curve using `curve_fit()`\n",
    "\n",
    "**(a)** Using the values you \"fit by hand\" in Part 3 as an initial guess, use python to calculate a least square fit. Make a plot of the data and the least-squares-fit curve. Again, use style `'o'` for the data points to distinguish them from the model curve (which should be plotted with a line). "
   ]
  },
  {
   "cell_type": "code",
   "execution_count": null,
   "metadata": {
    "ExecuteTime": {
     "end_time": "2020-09-03T08:57:57.781893Z",
     "start_time": "2020-09-03T08:57:57.321396Z"
    },
    "nbgrader": {
     "grade": false,
     "grade_id": "cell-84dbf9bcec14297e",
     "locked": false,
     "schema_version": 3,
     "solution": true,
     "task": false
    }
   },
   "outputs": [],
   "source": [
    "# Import curve_fit\n",
    "from scipy.optimize import curve_fit\n",
    "\n",
    "# Calculate the optimum values, after telling python my own guesses\n",
    "my_gauss_guesses = (10.2, 60, 12)\n",
    "values, covariance = curve_fit(calc_gauss, count_time, counts, p0=my_gauss_guesses)\n",
    "\n",
    "# Extract the found values:\n",
    "fit_t0 = values[0]\n",
    "fit_A = values[1]\n",
    "fit_sigma = values[2]\n",
    "\n",
    "# Plot and show the measurements and the best Gaussian fit\n",
    "plt.plot(count_time, counts, 'o', label=\"Measurements\")\n",
    "plt.plot(t_gauss, calc_gauss(t_gauss, fit_t0, fit_A, fit_sigma), label=\"Gaussian fit\")\n",
    "plt.xlabel(\"time (s)\")\n",
    "plt.ylabel(\"frequency\")\n",
    "plt.legend()\n",
    "plt.show()"
   ]
  },
  {
   "cell_type": "markdown",
   "metadata": {
    "ExecuteTime": {
     "end_time": "2020-09-02T20:23:14.545217Z",
     "start_time": "2020-09-02T20:23:14.541093Z"
    },
    "deletable": false,
    "editable": false,
    "nbgrader": {
     "grade": false,
     "grade_id": "cell-aed4b6d36cbad95b",
     "locked": true,
     "schema_version": 3,
     "solution": false,
     "task": false
    }
   },
   "source": [
    "**(b)** Print out sentences quoting the value of the parameters (with units) from their fit, along with the error value. When you print the values, use the python `round()` function to round the fitted value and the error to a decimal corresponding to two significant digits of the calculated error. \n",
    "\n",
    "(For example: if the fitted value is 5.32348723405 and the error is 0.12600324 then your code should round numbers 5.32 and 0.13 by using the `round()` function with a setting for two decimal places before printing them in the quoted values in the output.)"
   ]
  },
  {
   "cell_type": "code",
   "execution_count": null,
   "metadata": {
    "ExecuteTime": {
     "end_time": "2020-09-03T08:57:57.973280Z",
     "start_time": "2020-09-03T08:57:57.963989Z"
    },
    "nbgrader": {
     "grade": false,
     "grade_id": "cell-6bada36fb0f9ce30",
     "locked": false,
     "schema_version": 3,
     "solution": true,
     "task": false
    },
    "scrolled": false
   },
   "outputs": [],
   "source": [
    "# Error of the parameters\n",
    "error_t0 = np.sqrt(covariance[0,0])\n",
    "error_A = np.sqrt(covariance[1,1])\n",
    "error_sigma = np.sqrt(covariance[2,2])\n",
    "\n",
    "# Print the found values of the parameters with their errors to two significant digits \n",
    "print(\"Values of the parameters:\")\n",
    "print(\"t0 =\", round(fit_t0, 4), \"s +/-\", round(error_t0, 4))\n",
    "print(\"A =\", round(fit_A, 1), \"counts +/-\", round(error_A, 1))\n",
    "print(\"sigma =\", round(fit_sigma, 2), \"% +/-\", round(error_sigma, 2))"
   ]
  }
 ],
 "metadata": {
  "celltoolbar": "Edit Metadata",
  "jupytext": {
   "formats": "ipynb,md"
  },
  "kernelspec": {
   "display_name": "Python 3",
   "language": "python",
   "name": "python3"
  },
  "language_info": {
   "codemirror_mode": {
    "name": "ipython",
    "version": 3
   },
   "file_extension": ".py",
   "mimetype": "text/x-python",
   "name": "python",
   "nbconvert_exporter": "python",
   "pygments_lexer": "ipython3",
   "version": "3.8.3"
  },
  "toc": {
   "base_numbering": 1,
   "nav_menu": [],
   "number_sections": false,
   "sideBar": true,
   "skip_h1_title": false,
   "title_cell": "Table of Contents",
   "title_sidebar": "Contents",
   "toc_cell": false,
   "toc_position": [],
   "toc_section_display": true,
   "toc_window_display": false
  }
 },
 "nbformat": 4,
 "nbformat_minor": 2
}
